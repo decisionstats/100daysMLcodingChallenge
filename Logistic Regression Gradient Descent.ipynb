{
 "cells": [
  {
   "cell_type": "code",
   "execution_count": 1,
   "metadata": {},
   "outputs": [],
   "source": [
    "from __future__ import print_function, division\n",
    "from builtins import range"
   ]
  },
  {
   "cell_type": "code",
   "execution_count": 2,
   "metadata": {},
   "outputs": [],
   "source": [
    "import numpy as np\n",
    "import matplotlib.pyplot as plt"
   ]
  },
  {
   "cell_type": "code",
   "execution_count": 3,
   "metadata": {},
   "outputs": [],
   "source": [
    "N = 100\n",
    "D = 2\n",
    "\n",
    "N_per_class = N//2\n",
    "\n",
    "\n",
    "X = np.random.randn(N,D)"
   ]
  },
  {
   "cell_type": "code",
   "execution_count": 4,
   "metadata": {},
   "outputs": [],
   "source": [
    "# center the first 50 points at (-2,-2)\n",
    "X[:N_per_class,:] = X[:N_per_class,:] - 2*np.ones((N_per_class,D))\n",
    "\n",
    "# center the last 50 points at (2, 2)\n",
    "X[N_per_class:,:] = X[N_per_class:,:] + 2*np.ones((N_per_class,D))\n",
    "\n",
    "# labels: first N_per_class are 0, last N_per_class are 1\n",
    "T = np.array([0]*N_per_class + [1]*N_per_class)"
   ]
  },
  {
   "cell_type": "code",
   "execution_count": 9,
   "metadata": {},
   "outputs": [
    {
     "data": {
      "text/plain": [
       "(100, 3)"
      ]
     },
     "execution_count": 9,
     "metadata": {},
     "output_type": "execute_result"
    }
   ],
   "source": [
    "ones = np.ones((N, 1))\n",
    "Xb = np.concatenate((ones, X), axis=1)\n",
    "Xb.shape"
   ]
  },
  {
   "cell_type": "code",
   "execution_count": 6,
   "metadata": {},
   "outputs": [],
   "source": [
    "# randomly initialize the weights\n",
    "w = np.random.randn(D + 1)\n",
    "\n",
    "# calculate the model output\n",
    "z = Xb.dot(w)"
   ]
  },
  {
   "cell_type": "code",
   "execution_count": 7,
   "metadata": {},
   "outputs": [],
   "source": [
    "def sigmoid(z):\n",
    "    return 1/(1 + np.exp(-z))\n",
    "\n",
    "\n",
    "Y = sigmoid(z)"
   ]
  },
  {
   "cell_type": "code",
   "execution_count": 8,
   "metadata": {},
   "outputs": [
    {
     "data": {
      "text/plain": [
       "array([0.19986264, 0.01466494, 0.02243806, 0.17169344, 0.02878246,\n",
       "       0.56026925, 0.02555837, 0.04816325, 0.13108552, 0.13228684,\n",
       "       0.02907388, 0.06458564, 0.05342666, 0.2004559 , 0.09692951,\n",
       "       0.03697502, 0.31113768, 0.12279073, 0.12956663, 0.19747155,\n",
       "       0.09686029, 0.07358954, 0.05519872, 0.04275713, 0.08857767,\n",
       "       0.08016758, 0.04374457, 0.08884786, 0.08061072, 0.06216873,\n",
       "       0.19463228, 0.07631153, 0.10861772, 0.30520841, 0.06580548,\n",
       "       0.0172835 , 0.0730741 , 0.06067123, 0.00253463, 0.03845631,\n",
       "       0.54932522, 0.18901762, 0.03468397, 0.00989757, 0.33070212,\n",
       "       0.10536651, 0.03344796, 0.06923682, 0.02676635, 0.2199454 ,\n",
       "       0.116663  , 0.92114812, 0.81160941, 0.26792235, 0.68405904,\n",
       "       0.78059895, 0.56476345, 0.4023627 , 0.47643886, 0.31760335,\n",
       "       0.18462815, 0.42056847, 0.23078222, 0.93227674, 0.89136549,\n",
       "       0.39241565, 0.97015513, 0.86467661, 0.51199004, 0.40542274,\n",
       "       0.40891724, 0.44444777, 0.82516786, 0.59169501, 0.98184576,\n",
       "       0.16627896, 0.85391623, 0.6488083 , 0.74173267, 0.33814512,\n",
       "       0.23336023, 0.74651084, 0.27179737, 0.22001316, 0.96954556,\n",
       "       0.88218845, 0.70565247, 0.92295899, 0.9609166 , 0.2262016 ,\n",
       "       0.4089794 , 0.65503537, 0.75607993, 0.76069127, 0.86737802,\n",
       "       0.88406329, 0.44369755, 0.7157497 , 0.86283098, 0.51308805])"
      ]
     },
     "execution_count": 8,
     "metadata": {},
     "output_type": "execute_result"
    }
   ],
   "source": [
    "Y"
   ]
  },
  {
   "cell_type": "code",
   "execution_count": 11,
   "metadata": {},
   "outputs": [
    {
     "data": {
      "text/plain": [
       "array([0, 0, 0, 0, 0, 0, 0, 0, 0, 0, 0, 0, 0, 0, 0, 0, 0, 0, 0, 0, 0, 0,\n",
       "       0, 0, 0, 0, 0, 0, 0, 0, 0, 0, 0, 0, 0, 0, 0, 0, 0, 0, 0, 0, 0, 0,\n",
       "       0, 0, 0, 0, 0, 0, 1, 1, 1, 1, 1, 1, 1, 1, 1, 1, 1, 1, 1, 1, 1, 1,\n",
       "       1, 1, 1, 1, 1, 1, 1, 1, 1, 1, 1, 1, 1, 1, 1, 1, 1, 1, 1, 1, 1, 1,\n",
       "       1, 1, 1, 1, 1, 1, 1, 1, 1, 1, 1, 1])"
      ]
     },
     "execution_count": 11,
     "metadata": {},
     "output_type": "execute_result"
    }
   ],
   "source": [
    "T"
   ]
  },
  {
   "cell_type": "code",
   "execution_count": 10,
   "metadata": {},
   "outputs": [],
   "source": [
    "# calculate the cross-entropy error\n",
    "def cross_entropy(T, Y):\n",
    "    E = 0\n",
    "    for i in range(len(T)):\n",
    "        if T[i] == 1:\n",
    "            E -= np.log(Y[i])\n",
    "        else:\n",
    "            E -= np.log(1 - Y[i])\n",
    "    return E"
   ]
  },
  {
   "cell_type": "code",
   "execution_count": 13,
   "metadata": {},
   "outputs": [
    {
     "name": "stdout",
     "output_type": "stream",
     "text": [
      "1.18449741994076\n",
      "weight for 0 iteration is [1.19695117 4.90536621 4.856356  ]\n",
      "(100,)\n",
      "____________\n",
      "1.1120310062604726\n",
      "weight for 1 iteration is [1.26377397 4.86055112 4.87641137]\n",
      "(100,)\n",
      "____________\n",
      "1.0444861089172024\n",
      "weight for 2 iteration is [1.32822466 4.81734673 4.89579375]\n",
      "(100,)\n",
      "____________\n",
      "0.9816902614540176\n",
      "weight for 3 iteration is [1.39031682 4.77574767 4.9145082 ]\n",
      "(100,)\n",
      "____________\n",
      "0.9234400902338126\n",
      "weight for 4 iteration is [1.45007913 4.73573841 4.9325641 ]\n",
      "(100,)\n",
      "____________\n",
      "0.8695089811845138\n",
      "weight for 5 iteration is [1.50755356 4.69729448 4.94997464]\n",
      "(100,)\n",
      "____________\n",
      "0.8196545686823292\n",
      "weight for 6 iteration is [1.56279329 4.66038387 4.96675624]\n",
      "(100,)\n",
      "____________\n",
      "0.773625653583338\n",
      "weight for 7 iteration is [1.61586062 4.62496842 4.98292786]\n",
      "(100,)\n",
      "____________\n",
      "0.7311682821944305\n",
      "weight for 8 iteration is [1.66682488 4.59100524 4.99851048]\n",
      "(100,)\n",
      "____________\n",
      "0.6920308397999164\n",
      "weight for 9 iteration is [1.71576055 4.55844796 5.01352648]\n",
      "(100,)\n",
      "____________\n"
     ]
    }
   ],
   "source": [
    "learning_rate = 0.1\n",
    "for i in range(10):\n",
    "    if i % 1 == 0:\n",
    "        print(cross_entropy(T, Y))\n",
    "\n",
    "    # gradient descent weight udpate\n",
    "    w += learning_rate * Xb.T.dot(T - Y)\n",
    "    print(\"weight for\", i, \"iteration is\", w)\n",
    "\n",
    "    # recalculate Y\n",
    "    Y = sigmoid(Xb.dot(w))\n",
    "    print(Y.shape)\n",
    "    print(\"____________\")"
   ]
  },
  {
   "cell_type": "code",
   "execution_count": 14,
   "metadata": {},
   "outputs": [
    {
     "name": "stdout",
     "output_type": "stream",
     "text": [
      "Final w: [1.71576055 4.55844796 5.01352648]\n"
     ]
    }
   ],
   "source": [
    "print(\"Final w:\", w)"
   ]
  },
  {
   "cell_type": "code",
   "execution_count": 15,
   "metadata": {},
   "outputs": [
    {
     "data": {
      "image/png": "[encoded data removed]",
      "text/plain": [
       "<Figure size 432x288 with 1 Axes>"
      ]
     },
     "metadata": {},
     "output_type": "display_data"
    }
   ],
   "source": [
    "# plot the data and separating line\n",
    "plt.scatter(X[:,0], X[:,1], c=T, s=100, alpha=0.5)\n",
    "x_axis = np.linspace(-6, 6, 100)\n",
    "y_axis = -(w[0] + x_axis*w[1]) / w[2]\n",
    "plt.plot(x_axis, y_axis)\n",
    "plt.show()"
   ]
  },
  {
   "cell_type": "code",
   "execution_count": null,
   "metadata": {},
   "outputs": [],
   "source": []
  }
 ],
 "metadata": {
  "kernelspec": {
   "display_name": "Python 3",
   "language": "python",
   "name": "python3"
  },
  "language_info": {
   "codemirror_mode": {
    "name": "ipython",
    "version": 3
   },
   "file_extension": ".py",
   "mimetype": "text/x-python",
   "name": "python",
   "nbconvert_exporter": "python",
   "pygments_lexer": "ipython3",
   "version": "3.6.6"
  }
 },
 "nbformat": 4,
 "nbformat_minor": 2
}
