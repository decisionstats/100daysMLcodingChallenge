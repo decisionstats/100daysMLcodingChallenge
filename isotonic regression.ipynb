{
 "cells": [
  {
   "cell_type": "code",
   "execution_count": 1,
   "metadata": {},
   "outputs": [],
   "source": [
    "import numpy as np\n",
    "import matplotlib.pyplot as plt\n",
    "from matplotlib.collections import LineCollection\n",
    "\n",
    "from sklearn.linear_model import LinearRegression\n",
    "from sklearn.isotonic import IsotonicRegression\n",
    "from sklearn.utils import check_random_state\n"
   ]
  },
  {
   "cell_type": "code",
   "execution_count": 2,
   "metadata": {},
   "outputs": [],
   "source": [
    "\n",
    "n = 100\n",
    "x = np.arange(n)\n",
    "rs = check_random_state(0)\n",
    "y = rs.randint(-50, 50, size=(n,)) + 50. * np.log(1 + np.arange(n))\n",
    "\n"
   ]
  },
  {
   "cell_type": "code",
   "execution_count": 5,
   "metadata": {},
   "outputs": [
    {
     "data": {
      "text/plain": [
       "(100,)"
      ]
     },
     "execution_count": 5,
     "metadata": {},
     "output_type": "execute_result"
    }
   ],
   "source": [
    "y.shape"
   ]
  },
  {
   "cell_type": "code",
   "execution_count": 7,
   "metadata": {},
   "outputs": [
    {
     "data": {
      "text/plain": [
       "(100,)"
      ]
     },
     "execution_count": 7,
     "metadata": {},
     "output_type": "execute_result"
    }
   ],
   "source": [
    "x.shape"
   ]
  },
  {
   "cell_type": "code",
   "execution_count": 8,
   "metadata": {},
   "outputs": [],
   "source": [
    "# #############################################################################\n",
    "# Fit IsotonicRegression and LinearRegression models\n",
    "\n",
    "ir = IsotonicRegression()\n",
    "\n",
    "y_ = ir.fit_transform(x, y)\n",
    "\n"
   ]
  },
  {
   "cell_type": "code",
   "execution_count": 14,
   "metadata": {},
   "outputs": [
    {
     "data": {
      "text/plain": [
       "(100, 1)"
      ]
     },
     "execution_count": 14,
     "metadata": {},
     "output_type": "execute_result"
    }
   ],
   "source": [
    "x[:, np.newaxis].shape"
   ]
  },
  {
   "cell_type": "code",
   "execution_count": 15,
   "metadata": {},
   "outputs": [
    {
     "name": "stderr",
     "output_type": "stream",
     "text": [
      "/Library/Frameworks/Python.framework/Versions/3.6/lib/python3.6/site-packages/sklearn/linear_model/base.py:509: RuntimeWarning: internal gelsd driver lwork query error, required iwork dimension not returned. This is likely the result of LAPACK bug 0038, fixed in LAPACK 3.2.2 (released July 21, 2010). Falling back to 'gelss' driver.\n",
      "  linalg.lstsq(X, y)\n"
     ]
    },
    {
     "data": {
      "text/plain": [
       "LinearRegression(copy_X=True, fit_intercept=True, n_jobs=1, normalize=False)"
      ]
     },
     "execution_count": 15,
     "metadata": {},
     "output_type": "execute_result"
    }
   ],
   "source": [
    "lr = LinearRegression()\n",
    "lr.fit(x[:, np.newaxis], y)  # x needs to be 2d for LinearRegression\n",
    "\n",
    "\n"
   ]
  },
  {
   "cell_type": "code",
   "execution_count": 16,
   "metadata": {},
   "outputs": [
    {
     "data": {
      "text/plain": [
       "array([1.31347944])"
      ]
     },
     "execution_count": 16,
     "metadata": {},
     "output_type": "execute_result"
    }
   ],
   "source": [
    "lr.coef_"
   ]
  },
  {
   "cell_type": "code",
   "execution_count": 19,
   "metadata": {},
   "outputs": [],
   "source": [
    "# #############################################################################\n",
    "# Plot result\n",
    "\n",
    "segments = [[[i, y[i]], [i, y_[i]]] for i in range(n)]\n",
    "lc = LineCollection(segments, zorder=0)\n",
    "lc.set_array(np.ones(len(y)))\n",
    "lc.set_linewidths(0.5 * np.ones(n))\n",
    "\n"
   ]
  },
  {
   "cell_type": "code",
   "execution_count": 20,
   "metadata": {
    "scrolled": true
   },
   "outputs": [
    {
     "data": {
      "text/plain": [
       "[[[0, -6.0], [0, -6.0]],\n",
       " [[1, 31.657359027997266], [1, 31.657359027997266]],\n",
       " [[2, 68.93061443340548], [2, 68.93061443340548]],\n",
       " [[3, 86.31471805599453], [3, 77.4581957130341]],\n",
       " [[4, 97.47189562170502], [4, 77.4581957130341]],\n",
       " [[5, 48.587973461402754], [5, 77.4581957130341]],\n",
       " [[6, 130.29550745276566], [6, 100.37627113452281]],\n",
       " [[7, 74.97207708399179], [7, 100.37627113452281]],\n",
       " [[8, 95.86122886681098], [8, 100.37627113452281]],\n",
       " [[9, 152.1292546497023], [9, 142.77028731284636]],\n",
       " [[10, 139.89476363991855], [10, 142.77028731284636]],\n",
       " [[11, 162.24533248940003], [11, 142.77028731284636]],\n",
       " [[12, 166.24746787307683], [12, 142.77028731284636]],\n",
       " [[13, 93.9528664807629], [13, 142.77028731284636]],\n",
       " [[14, 143.4025100551105], [14, 142.77028731284636]],\n",
       " [[15, 153.62943611198907], [15, 142.77028731284636]],\n",
       " [[16, 130.6606672028108], [16, 142.77028731284636]],\n",
       " [[17, 181.51858789480823], [17, 159.46232588434722]],\n",
       " [[18, 143.221948958322], [18, 159.46232588434722]],\n",
       " [[19, 187.78661367769953], [19, 159.46232588434722]],\n",
       " [[20, 183.22612188617114], [20, 159.46232588434722]],\n",
       " [[21, 141.5521226679158], [21, 159.46232588434722]],\n",
       " [[22, 131.7747107964575], [22, 159.46232588434722]],\n",
       " [[23, 185.9026915173973], [23, 159.46232588434722]],\n",
       " [[24, 182.94379124341003], [24, 159.46232588434722]],\n",
       " [[25, 121.9048269010741], [25, 159.46232588434722]],\n",
       " [[26, 134.79184330021644], [26, 159.46232588434722]],\n",
       " [[27, 196.61022550876018], [27, 180.64627212456048]],\n",
       " [[28, 187.3647914993237], [28, 180.64627212456048]],\n",
       " [[29, 199.05986908310777], [29, 180.64627212456048]],\n",
       " [[30, 168.6993602242573], [30, 180.64627212456048]],\n",
       " [[31, 187.28679513998634], [31, 180.64627212456048]],\n",
       " [[32, 206.825378073324], [32, 180.64627212456048]],\n",
       " [[33, 225.31802623080807], [33, 180.64627212456048]],\n",
       " [[34, 215.76740307447068], [34, 180.64627212456048]],\n",
       " [[35, 178.1759469228055], [35, 180.64627212456048]],\n",
       " [[36, 159.54589563221123], [36, 180.64627212456048]],\n",
       " [[37, 150.87930798631928], [37, 180.64627212456048]],\n",
       " [[38, 152.1780823064823], [38, 180.64627212456048]],\n",
       " [[39, 148.4439727056968], [39, 180.64627212456048]],\n",
       " [[40, 174.6786033352154], [40, 180.64627212456048]],\n",
       " [[41, 168.88348091416842], [41, 180.64627212456048]],\n",
       " [[42, 203.0600057846781], [42, 180.64627212456048]],\n",
       " [[43, 148.20948169591304], [43, 180.64627212456048]],\n",
       " [[44, 197.33312448851598], [44, 181.42419146615785]],\n",
       " [[45, 173.43206982445474], [45, 181.42419146615785]],\n",
       " [[46, 173.50738008550292], [46, 181.42419146615785]],\n",
       " [[47, 217.56005054539455], [47, 183.5004138990913]],\n",
       " [[48, 167.59101490553132], [48, 183.5004138990913]],\n",
       " [[49, 180.6011502714073], [49, 183.5004138990913]],\n",
       " [[50, 221.59128163621628], [50, 183.5004138990913]],\n",
       " [[51, 202.56218592907138], [51, 183.5004138990913]],\n",
       " [[52, 176.5145956776061], [52, 183.5004138990913]],\n",
       " [[53, 183.44920232821372], [53, 183.5004138990913]],\n",
       " [[54, 150.36665926162357], [54, 183.5004138990913]],\n",
       " [[55, 151.26758453675748], [55, 183.5004138990913]],\n",
       " [[56, 188.1525633917275], [56, 183.662501486821]],\n",
       " [[57, 206.02215052732095], [57, 183.662501486821]],\n",
       " [[58, 158.87687219528598], [58, 183.662501486821]],\n",
       " [[59, 192.71722811110502], [59, 183.662501486821]],\n",
       " [[60, 172.54369320866556], [60, 183.662501486821]],\n",
       " [[61, 235.35671925225458], [61, 194.14905688424437]],\n",
       " [[62, 161.15673631957662], [62, 194.14905688424437]],\n",
       " [[63, 199.94415416798358], [63, 194.14905688424437]],\n",
       " [[64, 216.71936349478185], [64, 194.14905688424437]],\n",
       " [[65, 190.48273710132125], [65, 194.14905688424437]],\n",
       " [[66, 161.23463096954828], [66, 194.14905688424437]],\n",
       " [[67, 225.97538525880535], [67, 204.21455447880095]],\n",
       " [[68, 202.70532522986298], [68, 204.21455447880095]],\n",
       " [[69, 219.42476210246798], [69, 204.21455447880095]],\n",
       " [[70, 198.13399385206577], [70, 204.21455447880095]],\n",
       " [[71, 174.83330595080275], [71, 204.21455447880095]],\n",
       " [[72, 210.52297205741954], [72, 210.52297205741954]],\n",
       " [[73, 247.2032546602085], [73, 212.9511496110062]],\n",
       " [[74, 256.8744056768155], [74, 212.9511496110062]],\n",
       " [[75, 166.53666701431655], [75, 212.9511496110062]],\n",
       " [[76, 181.1902710926842], [76, 212.9511496110062]],\n",
       " [[77, 266.8354413344796], [77, 220.28290585628667]],\n",
       " [[78, 221.47239262335108], [78, 220.28290585628667]],\n",
       " [[79, 181.10133173369405], [79, 220.28290585628667]],\n",
       " [[80, 211.72245773362195], [80, 220.28290585628667]],\n",
       " [[81, 254.33596236321267], [81, 222.26157242700558]],\n",
       " [[82, 245.9420303898299], [82, 222.26157242700558]],\n",
       " [[83, 239.54083994216566], [83, 222.26157242700558]],\n",
       " [[84, 178.13256282451584], [84, 222.26157242700558]],\n",
       " [[85, 240.71736481267536], [85, 222.26157242700558]],\n",
       " [[86, 220.29540593272918], [86, 222.26157242700558]],\n",
       " [[87, 176.86684072391034], [87, 222.26157242700558]],\n",
       " [[88, 250.43181848660697], [88, 223.73693616781551]],\n",
       " [[89, 226.99048351651325], [89, 223.73693616781551]],\n",
       " [[90, 253.5429753258425], [90, 223.73693616781551]],\n",
       " [[91, 191.08942885245202], [91, 223.73693616781551]],\n",
       " [[92, 196.6299746576628], [92, 223.73693616781551]],\n",
       " [[93, 276.1647391135002], [93, 232.61198322512337]],\n",
       " [[94, 235.69384458002705], [94, 232.61198322512337]],\n",
       " [[95, 201.21740957339182], [95, 232.61198322512337]],\n",
       " [[96, 257.73554892516916], [96, 232.61198322512337]],\n",
       " [[97, 192.24837393352863], [97, 232.61198322512337]],\n",
       " [[98, 264.7559925067295], [98, 246.50725090306705]],\n",
       " [[99, 228.25850929940458], [99, 246.50725090306705]]]"
      ]
     },
     "execution_count": 20,
     "metadata": {},
     "output_type": "execute_result"
    }
   ],
   "source": [
    "segments"
   ]
  },
  {
   "cell_type": "code",
   "execution_count": 22,
   "metadata": {},
   "outputs": [
    {
     "data": {
      "text/plain": [
       "(100, 1)"
      ]
     },
     "execution_count": 22,
     "metadata": {},
     "output_type": "execute_result"
    }
   ],
   "source": [
    "x[:, np.newaxis].shape"
   ]
  },
  {
   "cell_type": "code",
   "execution_count": 23,
   "metadata": {},
   "outputs": [
    {
     "data": {
      "image/png": "[encoded data removed]",
      "text/plain": [
       "<Figure size 432x288 with 1 Axes>"
      ]
     },
     "metadata": {},
     "output_type": "display_data"
    }
   ],
   "source": [
    "fig = plt.figure()\n",
    "plt.plot(x, y, 'r.', markersize=12)\n",
    "plt.plot(x, y_, 'g.-', markersize=12)\n",
    "plt.plot(x, lr.predict(x[:, np.newaxis]), 'b-')\n",
    "plt.gca().add_collection(lc)\n",
    "plt.legend(('Data', 'Isotonic Fit', 'Linear Fit'), loc='lower right')\n",
    "plt.title('Isotonic regression')\n",
    "plt.show()"
   ]
  },
  {
   "cell_type": "code",
   "execution_count": null,
   "metadata": {},
   "outputs": [],
   "source": []
  }
 ],
 "metadata": {
  "kernelspec": {
   "display_name": "Python 3",
   "language": "python",
   "name": "python3"
  },
  "language_info": {
   "codemirror_mode": {
    "name": "ipython",
    "version": 3
   },
   "file_extension": ".py",
   "mimetype": "text/x-python",
   "name": "python",
   "nbconvert_exporter": "python",
   "pygments_lexer": "ipython3",
   "version": "3.6.6"
  }
 },
 "nbformat": 4,
 "nbformat_minor": 2
}
