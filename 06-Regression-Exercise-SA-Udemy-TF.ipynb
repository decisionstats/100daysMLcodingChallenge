{
 "cells": [
  {
   "cell_type": "markdown",
   "metadata": {},
   "source": [
    "# Regression Exercise \n",
    "\n",
    "California Housing Data\n",
    "\n",
    "This data set contains information about all the block groups in California from the 1990 Census. In this sample a block group on average includes 1425.5 individuals living in a geographically compact area. \n",
    "\n",
    "The task is to aproximate the median house value of each block from the values of the rest of the variables. \n",
    "\n",
    " It has been obtained from the LIACC repository. The original page where the data set can be found is: http://www.liaad.up.pt/~ltorgo/Regression/DataSets.html.\n",
    " "
   ]
  },
  {
   "cell_type": "markdown",
   "metadata": {
    "collapsed": true
   },
   "source": [
    "The Features:\n",
    " \n",
    "* housingMedianAge: continuous. \n",
    "* totalRooms: continuous. \n",
    "* totalBedrooms: continuous. \n",
    "* population: continuous. \n",
    "* households: continuous. \n",
    "* medianIncome: continuous. \n",
    "* medianHouseValue: continuous. "
   ]
  },
  {
   "cell_type": "markdown",
   "metadata": {},
   "source": [
    "## The Data"
   ]
  },
  {
   "cell_type": "markdown",
   "metadata": {},
   "source": [
    "** Import the cal_housing_clean.csv file with pandas. Separate it into a training (70%) and testing set(30%).**"
   ]
  },
  {
   "cell_type": "code",
   "execution_count": 23,
   "metadata": {},
   "outputs": [],
   "source": [
    "import pandas as pd\n",
    "from sklearn.model_selection import train_test_split\n",
    "from sklearn.preprocessing import MinMaxScaler\n",
    "import tensorflow as tf"
   ]
  },
  {
   "cell_type": "code",
   "execution_count": 2,
   "metadata": {},
   "outputs": [],
   "source": [
    "data=pd.read_csv('cal_housing_clean.csv')"
   ]
  },
  {
   "cell_type": "code",
   "execution_count": 5,
   "metadata": {},
   "outputs": [
    {
     "data": {
      "text/html": [
       "<div>\n",
       "<style scoped>\n",
       "    .dataframe tbody tr th:only-of-type {\n",
       "        vertical-align: middle;\n",
       "    }\n",
       "\n",
       "    .dataframe tbody tr th {\n",
       "        vertical-align: top;\n",
       "    }\n",
       "\n",
       "    .dataframe thead th {\n",
       "        text-align: right;\n",
       "    }\n",
       "</style>\n",
       "<table border=\"1\" class=\"dataframe\">\n",
       "  <thead>\n",
       "    <tr style=\"text-align: right;\">\n",
       "      <th></th>\n",
       "      <th>housingMedianAge</th>\n",
       "      <th>totalRooms</th>\n",
       "      <th>totalBedrooms</th>\n",
       "      <th>population</th>\n",
       "      <th>households</th>\n",
       "      <th>medianIncome</th>\n",
       "      <th>medianHouseValue</th>\n",
       "    </tr>\n",
       "  </thead>\n",
       "  <tbody>\n",
       "    <tr>\n",
       "      <th>0</th>\n",
       "      <td>41.0</td>\n",
       "      <td>880.0</td>\n",
       "      <td>129.0</td>\n",
       "      <td>322.0</td>\n",
       "      <td>126.0</td>\n",
       "      <td>8.3252</td>\n",
       "      <td>452600.0</td>\n",
       "    </tr>\n",
       "    <tr>\n",
       "      <th>1</th>\n",
       "      <td>21.0</td>\n",
       "      <td>7099.0</td>\n",
       "      <td>1106.0</td>\n",
       "      <td>2401.0</td>\n",
       "      <td>1138.0</td>\n",
       "      <td>8.3014</td>\n",
       "      <td>358500.0</td>\n",
       "    </tr>\n",
       "    <tr>\n",
       "      <th>2</th>\n",
       "      <td>52.0</td>\n",
       "      <td>1467.0</td>\n",
       "      <td>190.0</td>\n",
       "      <td>496.0</td>\n",
       "      <td>177.0</td>\n",
       "      <td>7.2574</td>\n",
       "      <td>352100.0</td>\n",
       "    </tr>\n",
       "    <tr>\n",
       "      <th>3</th>\n",
       "      <td>52.0</td>\n",
       "      <td>1274.0</td>\n",
       "      <td>235.0</td>\n",
       "      <td>558.0</td>\n",
       "      <td>219.0</td>\n",
       "      <td>5.6431</td>\n",
       "      <td>341300.0</td>\n",
       "    </tr>\n",
       "    <tr>\n",
       "      <th>4</th>\n",
       "      <td>52.0</td>\n",
       "      <td>1627.0</td>\n",
       "      <td>280.0</td>\n",
       "      <td>565.0</td>\n",
       "      <td>259.0</td>\n",
       "      <td>3.8462</td>\n",
       "      <td>342200.0</td>\n",
       "    </tr>\n",
       "  </tbody>\n",
       "</table>\n",
       "</div>"
      ],
      "text/plain": [
       "   housingMedianAge  totalRooms  totalBedrooms  population  households  \\\n",
       "0              41.0       880.0          129.0       322.0       126.0   \n",
       "1              21.0      7099.0         1106.0      2401.0      1138.0   \n",
       "2              52.0      1467.0          190.0       496.0       177.0   \n",
       "3              52.0      1274.0          235.0       558.0       219.0   \n",
       "4              52.0      1627.0          280.0       565.0       259.0   \n",
       "\n",
       "   medianIncome  medianHouseValue  \n",
       "0        8.3252          452600.0  \n",
       "1        8.3014          358500.0  \n",
       "2        7.2574          352100.0  \n",
       "3        5.6431          341300.0  \n",
       "4        3.8462          342200.0  "
      ]
     },
     "execution_count": 5,
     "metadata": {},
     "output_type": "execute_result"
    }
   ],
   "source": [
    "data.head()"
   ]
  },
  {
   "cell_type": "code",
   "execution_count": 6,
   "metadata": {},
   "outputs": [
    {
     "data": {
      "text/html": [
       "<div>\n",
       "<style scoped>\n",
       "    .dataframe tbody tr th:only-of-type {\n",
       "        vertical-align: middle;\n",
       "    }\n",
       "\n",
       "    .dataframe tbody tr th {\n",
       "        vertical-align: top;\n",
       "    }\n",
       "\n",
       "    .dataframe thead th {\n",
       "        text-align: right;\n",
       "    }\n",
       "</style>\n",
       "<table border=\"1\" class=\"dataframe\">\n",
       "  <thead>\n",
       "    <tr style=\"text-align: right;\">\n",
       "      <th></th>\n",
       "      <th>housingMedianAge</th>\n",
       "      <th>totalRooms</th>\n",
       "      <th>totalBedrooms</th>\n",
       "      <th>population</th>\n",
       "      <th>households</th>\n",
       "      <th>medianIncome</th>\n",
       "      <th>medianHouseValue</th>\n",
       "    </tr>\n",
       "  </thead>\n",
       "  <tbody>\n",
       "    <tr>\n",
       "      <th>count</th>\n",
       "      <td>20640.000000</td>\n",
       "      <td>20640.000000</td>\n",
       "      <td>20640.000000</td>\n",
       "      <td>20640.000000</td>\n",
       "      <td>20640.000000</td>\n",
       "      <td>20640.000000</td>\n",
       "      <td>20640.000000</td>\n",
       "    </tr>\n",
       "    <tr>\n",
       "      <th>mean</th>\n",
       "      <td>28.639486</td>\n",
       "      <td>2635.763081</td>\n",
       "      <td>537.898014</td>\n",
       "      <td>1425.476744</td>\n",
       "      <td>499.539680</td>\n",
       "      <td>3.870671</td>\n",
       "      <td>206855.816909</td>\n",
       "    </tr>\n",
       "    <tr>\n",
       "      <th>std</th>\n",
       "      <td>12.585558</td>\n",
       "      <td>2181.615252</td>\n",
       "      <td>421.247906</td>\n",
       "      <td>1132.462122</td>\n",
       "      <td>382.329753</td>\n",
       "      <td>1.899822</td>\n",
       "      <td>115395.615874</td>\n",
       "    </tr>\n",
       "    <tr>\n",
       "      <th>min</th>\n",
       "      <td>1.000000</td>\n",
       "      <td>2.000000</td>\n",
       "      <td>1.000000</td>\n",
       "      <td>3.000000</td>\n",
       "      <td>1.000000</td>\n",
       "      <td>0.499900</td>\n",
       "      <td>14999.000000</td>\n",
       "    </tr>\n",
       "    <tr>\n",
       "      <th>25%</th>\n",
       "      <td>18.000000</td>\n",
       "      <td>1447.750000</td>\n",
       "      <td>295.000000</td>\n",
       "      <td>787.000000</td>\n",
       "      <td>280.000000</td>\n",
       "      <td>2.563400</td>\n",
       "      <td>119600.000000</td>\n",
       "    </tr>\n",
       "    <tr>\n",
       "      <th>50%</th>\n",
       "      <td>29.000000</td>\n",
       "      <td>2127.000000</td>\n",
       "      <td>435.000000</td>\n",
       "      <td>1166.000000</td>\n",
       "      <td>409.000000</td>\n",
       "      <td>3.534800</td>\n",
       "      <td>179700.000000</td>\n",
       "    </tr>\n",
       "    <tr>\n",
       "      <th>75%</th>\n",
       "      <td>37.000000</td>\n",
       "      <td>3148.000000</td>\n",
       "      <td>647.000000</td>\n",
       "      <td>1725.000000</td>\n",
       "      <td>605.000000</td>\n",
       "      <td>4.743250</td>\n",
       "      <td>264725.000000</td>\n",
       "    </tr>\n",
       "    <tr>\n",
       "      <th>max</th>\n",
       "      <td>52.000000</td>\n",
       "      <td>39320.000000</td>\n",
       "      <td>6445.000000</td>\n",
       "      <td>35682.000000</td>\n",
       "      <td>6082.000000</td>\n",
       "      <td>15.000100</td>\n",
       "      <td>500001.000000</td>\n",
       "    </tr>\n",
       "  </tbody>\n",
       "</table>\n",
       "</div>"
      ],
      "text/plain": [
       "       housingMedianAge    totalRooms  totalBedrooms    population  \\\n",
       "count      20640.000000  20640.000000   20640.000000  20640.000000   \n",
       "mean          28.639486   2635.763081     537.898014   1425.476744   \n",
       "std           12.585558   2181.615252     421.247906   1132.462122   \n",
       "min            1.000000      2.000000       1.000000      3.000000   \n",
       "25%           18.000000   1447.750000     295.000000    787.000000   \n",
       "50%           29.000000   2127.000000     435.000000   1166.000000   \n",
       "75%           37.000000   3148.000000     647.000000   1725.000000   \n",
       "max           52.000000  39320.000000    6445.000000  35682.000000   \n",
       "\n",
       "         households  medianIncome  medianHouseValue  \n",
       "count  20640.000000  20640.000000      20640.000000  \n",
       "mean     499.539680      3.870671     206855.816909  \n",
       "std      382.329753      1.899822     115395.615874  \n",
       "min        1.000000      0.499900      14999.000000  \n",
       "25%      280.000000      2.563400     119600.000000  \n",
       "50%      409.000000      3.534800     179700.000000  \n",
       "75%      605.000000      4.743250     264725.000000  \n",
       "max     6082.000000     15.000100     500001.000000  "
      ]
     },
     "execution_count": 6,
     "metadata": {},
     "output_type": "execute_result"
    }
   ],
   "source": [
    "data.describe()"
   ]
  },
  {
   "cell_type": "code",
   "execution_count": 8,
   "metadata": {
    "scrolled": true
   },
   "outputs": [],
   "source": [
    "Y=data['medianHouseValue']"
   ]
  },
  {
   "cell_type": "code",
   "execution_count": 9,
   "metadata": {},
   "outputs": [],
   "source": [
    "x_data = data.drop(['medianHouseValue'],axis=1)"
   ]
  },
  {
   "cell_type": "code",
   "execution_count": 18,
   "metadata": {},
   "outputs": [],
   "source": [
    "x_train, x_test, Y_train, Y_test = train_test_split(x_data,Y,test_size=0.3,random_state=101)"
   ]
  },
  {
   "cell_type": "code",
   "execution_count": null,
   "metadata": {},
   "outputs": [],
   "source": []
  },
  {
   "cell_type": "markdown",
   "metadata": {},
   "source": [
    "### Scale the Feature Data\n",
    "\n",
    "** Use sklearn preprocessing to create a MinMaxScaler for the feature data. Fit this scaler only to the training data. Then use it to transform X_test and X_train. Then use the scaled X_test and X_train along with pd.Dataframe to re-create two dataframes of scaled data.**"
   ]
  },
  {
   "cell_type": "code",
   "execution_count": 19,
   "metadata": {},
   "outputs": [],
   "source": [
    "scale=MinMaxScaler()"
   ]
  },
  {
   "cell_type": "code",
   "execution_count": 20,
   "metadata": {},
   "outputs": [
    {
     "data": {
      "text/plain": [
       "MinMaxScaler(copy=True, feature_range=(0, 1))"
      ]
     },
     "execution_count": 20,
     "metadata": {},
     "output_type": "execute_result"
    }
   ],
   "source": [
    "scale.fit(x_train)"
   ]
  },
  {
   "cell_type": "code",
   "execution_count": 21,
   "metadata": {},
   "outputs": [],
   "source": [
    "x_train = pd.DataFrame(data=scale.transform(x_train),columns = x_train.columns,index=x_train.index)"
   ]
  },
  {
   "cell_type": "code",
   "execution_count": 22,
   "metadata": {},
   "outputs": [],
   "source": [
    "x_test = pd.DataFrame(data=scale.transform(x_test),columns = x_test.columns,index=x_test.index)"
   ]
  },
  {
   "cell_type": "code",
   "execution_count": 137,
   "metadata": {
    "collapsed": true
   },
   "outputs": [],
   "source": []
  },
  {
   "cell_type": "markdown",
   "metadata": {},
   "source": [
    "### Create Feature Columns\n",
    "\n",
    "** Create the necessary tf.feature_column objects for the estimator. They should all be trated as continuous numeric_columns. **"
   ]
  },
  {
   "cell_type": "code",
   "execution_count": 27,
   "metadata": {},
   "outputs": [
    {
     "data": {
      "text/plain": [
       "Index(['housingMedianAge', 'totalRooms', 'totalBedrooms', 'population',\n",
       "       'households', 'medianIncome', 'medianHouseValue'],\n",
       "      dtype='object')"
      ]
     },
     "execution_count": 27,
     "metadata": {},
     "output_type": "execute_result"
    }
   ],
   "source": [
    "data.columns"
   ]
  },
  {
   "cell_type": "code",
   "execution_count": 28,
   "metadata": {},
   "outputs": [],
   "source": [
    "age = tf.feature_column.numeric_column('housingMedianAge')\n",
    "rooms = tf.feature_column.numeric_column('totalRooms')\n",
    "bedrooms = tf.feature_column.numeric_column('totalBedrooms')\n",
    "pop = tf.feature_column.numeric_column('population')\n",
    "households = tf.feature_column.numeric_column('households')\n",
    "income = tf.feature_column.numeric_column('medianIncome')"
   ]
  },
  {
   "cell_type": "code",
   "execution_count": 29,
   "metadata": {},
   "outputs": [],
   "source": [
    "feat_cols = [age, rooms, bedrooms, pop, households, income]"
   ]
  },
  {
   "cell_type": "code",
   "execution_count": 141,
   "metadata": {
    "collapsed": true
   },
   "outputs": [],
   "source": []
  },
  {
   "cell_type": "markdown",
   "metadata": {},
   "source": [
    "** Create the input function for the estimator object. (play around with batch_size and num_epochs)**"
   ]
  },
  {
   "cell_type": "code",
   "execution_count": 39,
   "metadata": {},
   "outputs": [],
   "source": [
    "#input_func = tf.estimator.inputs.numpy_input_fn(x=x_train,y=Y_train,batch_size=10,num_epochs=1000,shuffle=True)\n",
    "input_func = tf.estimator.inputs.pandas_input_fn(x=X_train,y=Y_train ,batch_size=10,num_epochs=1000,\n",
    "                                            shuffle=True)"
   ]
  },
  {
   "cell_type": "markdown",
   "metadata": {},
   "source": [
    "** Create the estimator model. Use a DNNRegressor. Play around with the hidden units! **"
   ]
  },
  {
   "cell_type": "code",
   "execution_count": 40,
   "metadata": {},
   "outputs": [
    {
     "name": "stdout",
     "output_type": "stream",
     "text": [
      "INFO:tensorflow:Using default config.\n",
      "WARNING:tensorflow:Using temporary folder as model directory: /var/folders/c3/88hk3vsx7vvbx2k7w_c2wwtshd1228/T/tmpvlp5vxhf\n",
      "INFO:tensorflow:Using config: {'_model_dir': '/var/folders/c3/88hk3vsx7vvbx2k7w_c2wwtshd1228/T/tmpvlp5vxhf', '_tf_random_seed': None, '_save_summary_steps': 100, '_save_checkpoints_steps': None, '_save_checkpoints_secs': 600, '_session_config': None, '_keep_checkpoint_max': 5, '_keep_checkpoint_every_n_hours': 10000, '_log_step_count_steps': 100, '_train_distribute': None, '_service': None, '_cluster_spec': <tensorflow.python.training.server_lib.ClusterSpec object at 0x10c0b6128>, '_task_type': 'worker', '_task_id': 0, '_global_id_in_cluster': 0, '_master': '', '_evaluation_master': '', '_is_chief': True, '_num_ps_replicas': 0, '_num_worker_replicas': 1}\n"
     ]
    }
   ],
   "source": [
    "model = tf.estimator.DNNRegressor(hidden_units=[6,6,6],feature_columns=feat_cols)"
   ]
  },
  {
   "cell_type": "markdown",
   "metadata": {},
   "source": [
    "##### ** Train the model for ~1,000 steps. (Later come back to this and train it for more and check for improvement) **"
   ]
  },
  {
   "cell_type": "code",
   "execution_count": 41,
   "metadata": {},
   "outputs": [
    {
     "name": "stdout",
     "output_type": "stream",
     "text": [
      "INFO:tensorflow:Calling model_fn.\n",
      "INFO:tensorflow:Done calling model_fn.\n",
      "INFO:tensorflow:Create CheckpointSaverHook.\n",
      "INFO:tensorflow:Graph was finalized.\n",
      "INFO:tensorflow:Running local_init_op.\n",
      "INFO:tensorflow:Done running local_init_op.\n",
      "INFO:tensorflow:Saving checkpoints for 1 into /var/folders/c3/88hk3vsx7vvbx2k7w_c2wwtshd1228/T/tmpvlp5vxhf/model.ckpt.\n",
      "INFO:tensorflow:loss = 606371200000.0, step = 1\n",
      "INFO:tensorflow:global_step/sec: 491.196\n",
      "INFO:tensorflow:loss = 306412450000.0, step = 101 (0.207 sec)\n",
      "INFO:tensorflow:global_step/sec: 645.636\n",
      "INFO:tensorflow:loss = 535045570000.0, step = 201 (0.156 sec)\n",
      "INFO:tensorflow:global_step/sec: 653.339\n",
      "INFO:tensorflow:loss = 396705860000.0, step = 301 (0.152 sec)\n",
      "INFO:tensorflow:global_step/sec: 626.861\n",
      "INFO:tensorflow:loss = 391513340000.0, step = 401 (0.160 sec)\n",
      "INFO:tensorflow:global_step/sec: 639.807\n",
      "INFO:tensorflow:loss = 939934350000.0, step = 501 (0.155 sec)\n",
      "INFO:tensorflow:global_step/sec: 642.669\n",
      "INFO:tensorflow:loss = 578824960000.0, step = 601 (0.157 sec)\n",
      "INFO:tensorflow:global_step/sec: 660.415\n",
      "INFO:tensorflow:loss = 302649280000.0, step = 701 (0.151 sec)\n",
      "INFO:tensorflow:global_step/sec: 629.362\n",
      "INFO:tensorflow:loss = 433245980000.0, step = 801 (0.158 sec)\n",
      "INFO:tensorflow:global_step/sec: 644.387\n",
      "INFO:tensorflow:loss = 458938450000.0, step = 901 (0.155 sec)\n",
      "INFO:tensorflow:global_step/sec: 645.486\n",
      "INFO:tensorflow:loss = 483183460000.0, step = 1001 (0.154 sec)\n",
      "INFO:tensorflow:global_step/sec: 664.408\n",
      "INFO:tensorflow:loss = 116346110000.0, step = 1101 (0.153 sec)\n",
      "INFO:tensorflow:global_step/sec: 595.16\n",
      "INFO:tensorflow:loss = 72776770000.0, step = 1201 (0.166 sec)\n",
      "INFO:tensorflow:global_step/sec: 636.898\n",
      "INFO:tensorflow:loss = 479717330000.0, step = 1301 (0.159 sec)\n",
      "INFO:tensorflow:global_step/sec: 613.73\n",
      "INFO:tensorflow:loss = 269615710000.0, step = 1401 (0.161 sec)\n",
      "INFO:tensorflow:global_step/sec: 627.487\n",
      "INFO:tensorflow:loss = 51355476000.0, step = 1501 (0.159 sec)\n",
      "INFO:tensorflow:global_step/sec: 601.174\n",
      "INFO:tensorflow:loss = 304385260000.0, step = 1601 (0.167 sec)\n",
      "INFO:tensorflow:global_step/sec: 673.201\n",
      "INFO:tensorflow:loss = 224258110000.0, step = 1701 (0.150 sec)\n",
      "INFO:tensorflow:global_step/sec: 665.133\n",
      "INFO:tensorflow:loss = 70934490000.0, step = 1801 (0.150 sec)\n",
      "INFO:tensorflow:global_step/sec: 634.429\n",
      "INFO:tensorflow:loss = 222410160000.0, step = 1901 (0.158 sec)\n",
      "INFO:tensorflow:global_step/sec: 681.951\n",
      "INFO:tensorflow:loss = 191517310000.0, step = 2001 (0.147 sec)\n",
      "INFO:tensorflow:global_step/sec: 643.568\n",
      "INFO:tensorflow:loss = 138436900000.0, step = 2101 (0.153 sec)\n",
      "INFO:tensorflow:global_step/sec: 671.515\n",
      "INFO:tensorflow:loss = 37489103000.0, step = 2201 (0.150 sec)\n",
      "INFO:tensorflow:global_step/sec: 678.113\n",
      "INFO:tensorflow:loss = 37052820000.0, step = 2301 (0.148 sec)\n",
      "INFO:tensorflow:global_step/sec: 632.643\n",
      "INFO:tensorflow:loss = 215913230000.0, step = 2401 (0.157 sec)\n",
      "INFO:tensorflow:global_step/sec: 625.316\n",
      "INFO:tensorflow:loss = 109199910000.0, step = 2501 (0.160 sec)\n",
      "INFO:tensorflow:global_step/sec: 624.871\n",
      "INFO:tensorflow:loss = 107887900000.0, step = 2601 (0.160 sec)\n",
      "INFO:tensorflow:global_step/sec: 635.445\n",
      "INFO:tensorflow:loss = 134500530000.0, step = 2701 (0.157 sec)\n",
      "INFO:tensorflow:global_step/sec: 659.044\n",
      "INFO:tensorflow:loss = 158751470000.0, step = 2801 (0.152 sec)\n",
      "INFO:tensorflow:global_step/sec: 658.254\n",
      "INFO:tensorflow:loss = 28817295000.0, step = 2901 (0.153 sec)\n",
      "INFO:tensorflow:global_step/sec: 624.13\n",
      "INFO:tensorflow:loss = 143093870000.0, step = 3001 (0.159 sec)\n",
      "INFO:tensorflow:global_step/sec: 659.343\n",
      "INFO:tensorflow:loss = 25109092000.0, step = 3101 (0.154 sec)\n",
      "INFO:tensorflow:global_step/sec: 644.937\n",
      "INFO:tensorflow:loss = 134183300000.0, step = 3201 (0.153 sec)\n",
      "INFO:tensorflow:global_step/sec: 585.357\n",
      "INFO:tensorflow:loss = 144833150000.0, step = 3301 (0.171 sec)\n",
      "INFO:tensorflow:global_step/sec: 584.84\n",
      "INFO:tensorflow:loss = 93525410000.0, step = 3401 (0.171 sec)\n",
      "INFO:tensorflow:global_step/sec: 608.06\n",
      "INFO:tensorflow:loss = 65871430000.0, step = 3501 (0.164 sec)\n",
      "INFO:tensorflow:global_step/sec: 646.101\n",
      "INFO:tensorflow:loss = 159022090000.0, step = 3601 (0.155 sec)\n",
      "INFO:tensorflow:global_step/sec: 646.621\n",
      "INFO:tensorflow:loss = 76808340000.0, step = 3701 (0.156 sec)\n",
      "INFO:tensorflow:global_step/sec: 646.338\n",
      "INFO:tensorflow:loss = 50320015000.0, step = 3801 (0.155 sec)\n",
      "INFO:tensorflow:global_step/sec: 325.626\n",
      "INFO:tensorflow:loss = 70808320000.0, step = 3901 (0.313 sec)\n",
      "INFO:tensorflow:global_step/sec: 395.784\n",
      "INFO:tensorflow:loss = 58925450000.0, step = 4001 (0.245 sec)\n",
      "INFO:tensorflow:global_step/sec: 456.416\n",
      "INFO:tensorflow:loss = 51955593000.0, step = 4101 (0.224 sec)\n",
      "INFO:tensorflow:global_step/sec: 481.445\n",
      "INFO:tensorflow:loss = 87973910000.0, step = 4201 (0.205 sec)\n",
      "INFO:tensorflow:global_step/sec: 384.561\n",
      "INFO:tensorflow:loss = 165829180000.0, step = 4301 (0.259 sec)\n",
      "INFO:tensorflow:global_step/sec: 485.222\n",
      "INFO:tensorflow:loss = 92822310000.0, step = 4401 (0.207 sec)\n",
      "INFO:tensorflow:global_step/sec: 481.274\n",
      "INFO:tensorflow:loss = 173419320000.0, step = 4501 (0.208 sec)\n",
      "INFO:tensorflow:global_step/sec: 338.181\n",
      "INFO:tensorflow:loss = 121435630000.0, step = 4601 (0.300 sec)\n",
      "INFO:tensorflow:global_step/sec: 567.934\n",
      "INFO:tensorflow:loss = 79666590000.0, step = 4701 (0.172 sec)\n",
      "INFO:tensorflow:global_step/sec: 603.39\n",
      "INFO:tensorflow:loss = 84405070000.0, step = 4801 (0.164 sec)\n",
      "INFO:tensorflow:global_step/sec: 579.173\n",
      "INFO:tensorflow:loss = 129461010000.0, step = 4901 (0.174 sec)\n",
      "INFO:tensorflow:global_step/sec: 584.413\n",
      "INFO:tensorflow:loss = 136924350000.0, step = 5001 (0.171 sec)\n",
      "INFO:tensorflow:global_step/sec: 586.696\n",
      "INFO:tensorflow:loss = 97459060000.0, step = 5101 (0.171 sec)\n",
      "INFO:tensorflow:global_step/sec: 601.543\n",
      "INFO:tensorflow:loss = 76120785000.0, step = 5201 (0.165 sec)\n",
      "INFO:tensorflow:global_step/sec: 518.283\n",
      "INFO:tensorflow:loss = 120315000000.0, step = 5301 (0.194 sec)\n",
      "INFO:tensorflow:global_step/sec: 577.727\n",
      "INFO:tensorflow:loss = 71773660000.0, step = 5401 (0.173 sec)\n",
      "INFO:tensorflow:global_step/sec: 614.129\n",
      "INFO:tensorflow:loss = 92682840000.0, step = 5501 (0.161 sec)\n",
      "INFO:tensorflow:global_step/sec: 593.043\n",
      "INFO:tensorflow:loss = 92526510000.0, step = 5601 (0.169 sec)\n",
      "INFO:tensorflow:global_step/sec: 682.43\n",
      "INFO:tensorflow:loss = 95301780000.0, step = 5701 (0.149 sec)\n",
      "INFO:tensorflow:global_step/sec: 641.289\n",
      "INFO:tensorflow:loss = 129325240000.0, step = 5801 (0.157 sec)\n",
      "INFO:tensorflow:global_step/sec: 585.46\n",
      "INFO:tensorflow:loss = 193286050000.0, step = 5901 (0.168 sec)\n",
      "INFO:tensorflow:global_step/sec: 622.794\n",
      "INFO:tensorflow:loss = 131410060000.0, step = 6001 (0.160 sec)\n",
      "INFO:tensorflow:global_step/sec: 676.165\n",
      "INFO:tensorflow:loss = 172659410000.0, step = 6101 (0.148 sec)\n",
      "INFO:tensorflow:global_step/sec: 590.301\n",
      "INFO:tensorflow:loss = 60749595000.0, step = 6201 (0.171 sec)\n",
      "INFO:tensorflow:global_step/sec: 589.591\n",
      "INFO:tensorflow:loss = 115760030000.0, step = 6301 (0.167 sec)\n",
      "INFO:tensorflow:global_step/sec: 612.651\n",
      "INFO:tensorflow:loss = 106669770000.0, step = 6401 (0.163 sec)\n",
      "INFO:tensorflow:global_step/sec: 606.45\n",
      "INFO:tensorflow:loss = 81720690000.0, step = 6501 (0.166 sec)\n",
      "INFO:tensorflow:global_step/sec: 580.327\n",
      "INFO:tensorflow:loss = 42669030000.0, step = 6601 (0.172 sec)\n",
      "INFO:tensorflow:global_step/sec: 607.711\n",
      "INFO:tensorflow:loss = 159145660000.0, step = 6701 (0.166 sec)\n",
      "INFO:tensorflow:global_step/sec: 604.502\n",
      "INFO:tensorflow:loss = 63850830000.0, step = 6801 (0.163 sec)\n",
      "INFO:tensorflow:global_step/sec: 560.749\n",
      "INFO:tensorflow:loss = 268363990000.0, step = 6901 (0.181 sec)\n",
      "INFO:tensorflow:global_step/sec: 684.537\n",
      "INFO:tensorflow:loss = 203541740000.0, step = 7001 (0.145 sec)\n",
      "INFO:tensorflow:global_step/sec: 700.422\n",
      "INFO:tensorflow:loss = 145466720000.0, step = 7101 (0.143 sec)\n",
      "INFO:tensorflow:global_step/sec: 588.111\n",
      "INFO:tensorflow:loss = 19487398000.0, step = 7201 (0.170 sec)\n",
      "INFO:tensorflow:global_step/sec: 627.462\n",
      "INFO:tensorflow:loss = 126342760000.0, step = 7301 (0.157 sec)\n",
      "INFO:tensorflow:global_step/sec: 719.467\n",
      "INFO:tensorflow:loss = 122274920000.0, step = 7401 (0.140 sec)\n",
      "INFO:tensorflow:global_step/sec: 696.204\n",
      "INFO:tensorflow:loss = 112537280000.0, step = 7501 (0.145 sec)\n",
      "INFO:tensorflow:global_step/sec: 679.587\n"
     ]
    },
    {
     "name": "stdout",
     "output_type": "stream",
     "text": [
      "INFO:tensorflow:loss = 42600346000.0, step = 7601 (0.145 sec)\n",
      "INFO:tensorflow:global_step/sec: 377.168\n",
      "INFO:tensorflow:loss = 109689940000.0, step = 7701 (0.267 sec)\n",
      "INFO:tensorflow:global_step/sec: 313.466\n",
      "INFO:tensorflow:loss = 88107880000.0, step = 7801 (0.324 sec)\n",
      "INFO:tensorflow:global_step/sec: 395.579\n",
      "INFO:tensorflow:loss = 136662925000.0, step = 7901 (0.249 sec)\n",
      "INFO:tensorflow:global_step/sec: 364.008\n",
      "INFO:tensorflow:loss = 68509420000.0, step = 8001 (0.283 sec)\n",
      "INFO:tensorflow:global_step/sec: 373.353\n",
      "INFO:tensorflow:loss = 123533340000.0, step = 8101 (0.262 sec)\n",
      "INFO:tensorflow:global_step/sec: 384.857\n",
      "INFO:tensorflow:loss = 144191440000.0, step = 8201 (0.259 sec)\n",
      "INFO:tensorflow:global_step/sec: 561.678\n",
      "INFO:tensorflow:loss = 102560640000.0, step = 8301 (0.176 sec)\n",
      "INFO:tensorflow:global_step/sec: 606.186\n",
      "INFO:tensorflow:loss = 62111200000.0, step = 8401 (0.166 sec)\n",
      "INFO:tensorflow:global_step/sec: 641.79\n",
      "INFO:tensorflow:loss = 39571650000.0, step = 8501 (0.154 sec)\n",
      "INFO:tensorflow:global_step/sec: 649.954\n",
      "INFO:tensorflow:loss = 331682400000.0, step = 8601 (0.155 sec)\n",
      "INFO:tensorflow:global_step/sec: 573.43\n",
      "INFO:tensorflow:loss = 67519200000.0, step = 8701 (0.175 sec)\n",
      "INFO:tensorflow:global_step/sec: 648.283\n",
      "INFO:tensorflow:loss = 146753220000.0, step = 8801 (0.152 sec)\n",
      "INFO:tensorflow:global_step/sec: 399.896\n",
      "INFO:tensorflow:loss = 25303544000.0, step = 8901 (0.253 sec)\n",
      "INFO:tensorflow:global_step/sec: 282.046\n",
      "INFO:tensorflow:loss = 117238555000.0, step = 9001 (0.352 sec)\n",
      "INFO:tensorflow:global_step/sec: 558.23\n",
      "INFO:tensorflow:loss = 79448940000.0, step = 9101 (0.180 sec)\n",
      "INFO:tensorflow:global_step/sec: 639.173\n",
      "INFO:tensorflow:loss = 87650780000.0, step = 9201 (0.158 sec)\n",
      "INFO:tensorflow:global_step/sec: 645.149\n",
      "INFO:tensorflow:loss = 116484750000.0, step = 9301 (0.153 sec)\n",
      "INFO:tensorflow:global_step/sec: 594.605\n",
      "INFO:tensorflow:loss = 70561464000.0, step = 9401 (0.169 sec)\n",
      "INFO:tensorflow:global_step/sec: 600.789\n",
      "INFO:tensorflow:loss = 242976520000.0, step = 9501 (0.166 sec)\n",
      "INFO:tensorflow:global_step/sec: 631.36\n",
      "INFO:tensorflow:loss = 223333090000.0, step = 9601 (0.157 sec)\n",
      "INFO:tensorflow:global_step/sec: 637.588\n",
      "INFO:tensorflow:loss = 78650170000.0, step = 9701 (0.157 sec)\n",
      "INFO:tensorflow:global_step/sec: 706.334\n",
      "INFO:tensorflow:loss = 145876780000.0, step = 9801 (0.142 sec)\n",
      "INFO:tensorflow:global_step/sec: 587.793\n",
      "INFO:tensorflow:loss = 85877424000.0, step = 9901 (0.170 sec)\n",
      "INFO:tensorflow:global_step/sec: 496.679\n",
      "INFO:tensorflow:loss = 101560580000.0, step = 10001 (0.206 sec)\n",
      "INFO:tensorflow:global_step/sec: 505.133\n",
      "INFO:tensorflow:loss = 233073520000.0, step = 10101 (0.194 sec)\n",
      "INFO:tensorflow:global_step/sec: 666.298\n",
      "INFO:tensorflow:loss = 46122906000.0, step = 10201 (0.149 sec)\n",
      "INFO:tensorflow:global_step/sec: 681.087\n",
      "INFO:tensorflow:loss = 63437734000.0, step = 10301 (0.149 sec)\n",
      "INFO:tensorflow:global_step/sec: 668.23\n",
      "INFO:tensorflow:loss = 59868713000.0, step = 10401 (0.147 sec)\n",
      "INFO:tensorflow:global_step/sec: 678.708\n",
      "INFO:tensorflow:loss = 103396385000.0, step = 10501 (0.149 sec)\n",
      "INFO:tensorflow:global_step/sec: 678.942\n",
      "INFO:tensorflow:loss = 109425100000.0, step = 10601 (0.148 sec)\n",
      "INFO:tensorflow:global_step/sec: 682.157\n",
      "INFO:tensorflow:loss = 124200526000.0, step = 10701 (0.144 sec)\n",
      "INFO:tensorflow:global_step/sec: 692.784\n",
      "INFO:tensorflow:loss = 139329440000.0, step = 10801 (0.144 sec)\n",
      "INFO:tensorflow:global_step/sec: 675.128\n",
      "INFO:tensorflow:loss = 91011400000.0, step = 10901 (0.148 sec)\n",
      "INFO:tensorflow:global_step/sec: 700.25\n",
      "INFO:tensorflow:loss = 176386770000.0, step = 11001 (0.143 sec)\n",
      "INFO:tensorflow:global_step/sec: 672.74\n",
      "INFO:tensorflow:loss = 78134305000.0, step = 11101 (0.150 sec)\n",
      "INFO:tensorflow:global_step/sec: 632.167\n",
      "INFO:tensorflow:loss = 105530660000.0, step = 11201 (0.157 sec)\n",
      "INFO:tensorflow:global_step/sec: 706.39\n",
      "INFO:tensorflow:loss = 118733420000.0, step = 11301 (0.142 sec)\n",
      "INFO:tensorflow:global_step/sec: 649.759\n",
      "INFO:tensorflow:loss = 122801860000.0, step = 11401 (0.154 sec)\n",
      "INFO:tensorflow:global_step/sec: 672.735\n",
      "INFO:tensorflow:loss = 35011334000.0, step = 11501 (0.151 sec)\n",
      "INFO:tensorflow:global_step/sec: 681.817\n",
      "INFO:tensorflow:loss = 118144434000.0, step = 11601 (0.145 sec)\n",
      "INFO:tensorflow:global_step/sec: 678.969\n",
      "INFO:tensorflow:loss = 49071505000.0, step = 11701 (0.147 sec)\n",
      "INFO:tensorflow:global_step/sec: 622.014\n",
      "INFO:tensorflow:loss = 127923765000.0, step = 11801 (0.161 sec)\n",
      "INFO:tensorflow:global_step/sec: 716.061\n",
      "INFO:tensorflow:loss = 185318050000.0, step = 11901 (0.141 sec)\n",
      "INFO:tensorflow:global_step/sec: 712.586\n",
      "INFO:tensorflow:loss = 87462404000.0, step = 12001 (0.141 sec)\n",
      "INFO:tensorflow:global_step/sec: 646.228\n",
      "INFO:tensorflow:loss = 217394560000.0, step = 12101 (0.152 sec)\n",
      "INFO:tensorflow:global_step/sec: 657.083\n",
      "INFO:tensorflow:loss = 106863260000.0, step = 12201 (0.153 sec)\n",
      "INFO:tensorflow:global_step/sec: 695.633\n",
      "INFO:tensorflow:loss = 61473505000.0, step = 12301 (0.143 sec)\n",
      "INFO:tensorflow:global_step/sec: 621.037\n",
      "INFO:tensorflow:loss = 72145040000.0, step = 12401 (0.161 sec)\n",
      "INFO:tensorflow:global_step/sec: 650.355\n",
      "INFO:tensorflow:loss = 120442640000.0, step = 12501 (0.154 sec)\n",
      "INFO:tensorflow:global_step/sec: 687.049\n",
      "INFO:tensorflow:loss = 188521800000.0, step = 12601 (0.147 sec)\n",
      "INFO:tensorflow:global_step/sec: 663.279\n",
      "INFO:tensorflow:loss = 36412640000.0, step = 12701 (0.149 sec)\n",
      "INFO:tensorflow:global_step/sec: 635.22\n",
      "INFO:tensorflow:loss = 78362200000.0, step = 12801 (0.158 sec)\n",
      "INFO:tensorflow:global_step/sec: 633.445\n",
      "INFO:tensorflow:loss = 130015050000.0, step = 12901 (0.159 sec)\n",
      "INFO:tensorflow:global_step/sec: 617.871\n",
      "INFO:tensorflow:loss = 217749780000.0, step = 13001 (0.160 sec)\n",
      "INFO:tensorflow:global_step/sec: 588.129\n",
      "INFO:tensorflow:loss = 107514495000.0, step = 13101 (0.173 sec)\n",
      "INFO:tensorflow:global_step/sec: 642.43\n",
      "INFO:tensorflow:loss = 152877940000.0, step = 13201 (0.154 sec)\n",
      "INFO:tensorflow:global_step/sec: 666.014\n",
      "INFO:tensorflow:loss = 66110670000.0, step = 13301 (0.149 sec)\n",
      "INFO:tensorflow:global_step/sec: 687.465\n",
      "INFO:tensorflow:loss = 199354040000.0, step = 13401 (0.148 sec)\n",
      "INFO:tensorflow:global_step/sec: 614.357\n",
      "INFO:tensorflow:loss = 67328578000.0, step = 13501 (0.160 sec)\n",
      "INFO:tensorflow:global_step/sec: 649.506\n",
      "INFO:tensorflow:loss = 94390310000.0, step = 13601 (0.154 sec)\n",
      "INFO:tensorflow:global_step/sec: 657.687\n",
      "INFO:tensorflow:loss = 99208140000.0, step = 13701 (0.152 sec)\n",
      "INFO:tensorflow:global_step/sec: 664.823\n",
      "INFO:tensorflow:loss = 110725140000.0, step = 13801 (0.150 sec)\n",
      "INFO:tensorflow:global_step/sec: 663.152\n",
      "INFO:tensorflow:loss = 171993680000.0, step = 13901 (0.151 sec)\n",
      "INFO:tensorflow:global_step/sec: 662.642\n",
      "INFO:tensorflow:loss = 53676446000.0, step = 14001 (0.151 sec)\n",
      "INFO:tensorflow:global_step/sec: 713.287\n",
      "INFO:tensorflow:loss = 112136500000.0, step = 14101 (0.142 sec)\n",
      "INFO:tensorflow:global_step/sec: 656.307\n",
      "INFO:tensorflow:loss = 157312040000.0, step = 14201 (0.152 sec)\n",
      "INFO:tensorflow:global_step/sec: 672.069\n",
      "INFO:tensorflow:loss = 106146914000.0, step = 14301 (0.148 sec)\n",
      "INFO:tensorflow:global_step/sec: 681.556\n",
      "INFO:tensorflow:loss = 130239906000.0, step = 14401 (0.147 sec)\n",
      "INFO:tensorflow:global_step/sec: 711.588\n",
      "INFO:tensorflow:loss = 44840124000.0, step = 14501 (0.143 sec)\n",
      "INFO:tensorflow:global_step/sec: 687.465\n",
      "INFO:tensorflow:loss = 98192360000.0, step = 14601 (0.145 sec)\n",
      "INFO:tensorflow:global_step/sec: 653.676\n",
      "INFO:tensorflow:loss = 117499170000.0, step = 14701 (0.150 sec)\n",
      "INFO:tensorflow:global_step/sec: 703.938\n",
      "INFO:tensorflow:loss = 124349825000.0, step = 14801 (0.144 sec)\n",
      "INFO:tensorflow:global_step/sec: 680.684\n",
      "INFO:tensorflow:loss = 68770030000.0, step = 14901 (0.146 sec)\n",
      "INFO:tensorflow:global_step/sec: 647.237\n",
      "INFO:tensorflow:loss = 73382050000.0, step = 15001 (0.155 sec)\n",
      "INFO:tensorflow:global_step/sec: 614.87\n",
      "INFO:tensorflow:loss = 33962185000.0, step = 15101 (0.161 sec)\n",
      "INFO:tensorflow:global_step/sec: 608.262\n",
      "INFO:tensorflow:loss = 92038260000.0, step = 15201 (0.164 sec)\n",
      "INFO:tensorflow:global_step/sec: 625.884\n",
      "INFO:tensorflow:loss = 114631025000.0, step = 15301 (0.161 sec)\n",
      "INFO:tensorflow:global_step/sec: 617.662\n",
      "INFO:tensorflow:loss = 145441930000.0, step = 15401 (0.160 sec)\n",
      "INFO:tensorflow:global_step/sec: 602.191\n"
     ]
    },
    {
     "name": "stdout",
     "output_type": "stream",
     "text": [
      "INFO:tensorflow:loss = 91399360000.0, step = 15501 (0.169 sec)\n",
      "INFO:tensorflow:global_step/sec: 674.228\n",
      "INFO:tensorflow:loss = 47467010000.0, step = 15601 (0.147 sec)\n",
      "INFO:tensorflow:global_step/sec: 618.724\n",
      "INFO:tensorflow:loss = 119980330000.0, step = 15701 (0.160 sec)\n",
      "INFO:tensorflow:global_step/sec: 598.691\n",
      "INFO:tensorflow:loss = 76800930000.0, step = 15801 (0.168 sec)\n",
      "INFO:tensorflow:global_step/sec: 627.246\n",
      "INFO:tensorflow:loss = 93163830000.0, step = 15901 (0.160 sec)\n",
      "INFO:tensorflow:global_step/sec: 627.798\n",
      "INFO:tensorflow:loss = 86513190000.0, step = 16001 (0.157 sec)\n",
      "INFO:tensorflow:global_step/sec: 695.328\n",
      "INFO:tensorflow:loss = 106358700000.0, step = 16101 (0.147 sec)\n",
      "INFO:tensorflow:global_step/sec: 674.241\n",
      "INFO:tensorflow:loss = 60958216000.0, step = 16201 (0.148 sec)\n",
      "INFO:tensorflow:global_step/sec: 698.982\n",
      "INFO:tensorflow:loss = 77003320000.0, step = 16301 (0.143 sec)\n",
      "INFO:tensorflow:global_step/sec: 628.963\n",
      "INFO:tensorflow:loss = 115954160000.0, step = 16401 (0.159 sec)\n",
      "INFO:tensorflow:global_step/sec: 606.851\n",
      "INFO:tensorflow:loss = 211619250000.0, step = 16501 (0.163 sec)\n",
      "INFO:tensorflow:global_step/sec: 638.933\n",
      "INFO:tensorflow:loss = 140293000000.0, step = 16601 (0.157 sec)\n",
      "INFO:tensorflow:global_step/sec: 653.159\n",
      "INFO:tensorflow:loss = 79760560000.0, step = 16701 (0.153 sec)\n",
      "INFO:tensorflow:global_step/sec: 614.794\n",
      "INFO:tensorflow:loss = 49354670000.0, step = 16801 (0.163 sec)\n",
      "INFO:tensorflow:global_step/sec: 627.834\n",
      "INFO:tensorflow:loss = 160138600000.0, step = 16901 (0.162 sec)\n",
      "INFO:tensorflow:global_step/sec: 634.735\n",
      "INFO:tensorflow:loss = 84273010000.0, step = 17001 (0.158 sec)\n",
      "INFO:tensorflow:global_step/sec: 582.622\n",
      "INFO:tensorflow:loss = 134286250000.0, step = 17101 (0.171 sec)\n",
      "INFO:tensorflow:global_step/sec: 632.618\n",
      "INFO:tensorflow:loss = 197268670000.0, step = 17201 (0.158 sec)\n",
      "INFO:tensorflow:global_step/sec: 626.527\n",
      "INFO:tensorflow:loss = 71997964000.0, step = 17301 (0.160 sec)\n",
      "INFO:tensorflow:global_step/sec: 644.9\n",
      "INFO:tensorflow:loss = 93358910000.0, step = 17401 (0.155 sec)\n",
      "INFO:tensorflow:global_step/sec: 638.786\n",
      "INFO:tensorflow:loss = 107998830000.0, step = 17501 (0.154 sec)\n",
      "INFO:tensorflow:global_step/sec: 663.311\n",
      "INFO:tensorflow:loss = 118176660000.0, step = 17601 (0.153 sec)\n",
      "INFO:tensorflow:global_step/sec: 610.038\n",
      "INFO:tensorflow:loss = 118968940000.0, step = 17701 (0.165 sec)\n",
      "INFO:tensorflow:global_step/sec: 685.932\n",
      "INFO:tensorflow:loss = 101890910000.0, step = 17801 (0.145 sec)\n",
      "INFO:tensorflow:global_step/sec: 613.275\n",
      "INFO:tensorflow:loss = 76447360000.0, step = 17901 (0.163 sec)\n",
      "INFO:tensorflow:global_step/sec: 623.407\n",
      "INFO:tensorflow:loss = 144352900000.0, step = 18001 (0.159 sec)\n",
      "INFO:tensorflow:global_step/sec: 663.104\n",
      "INFO:tensorflow:loss = 39365456000.0, step = 18101 (0.150 sec)\n",
      "INFO:tensorflow:global_step/sec: 698.787\n",
      "INFO:tensorflow:loss = 67522355000.0, step = 18201 (0.145 sec)\n",
      "INFO:tensorflow:global_step/sec: 620.851\n",
      "INFO:tensorflow:loss = 135564706000.0, step = 18301 (0.159 sec)\n",
      "INFO:tensorflow:global_step/sec: 653.387\n",
      "INFO:tensorflow:loss = 91493860000.0, step = 18401 (0.154 sec)\n",
      "INFO:tensorflow:global_step/sec: 660.175\n",
      "INFO:tensorflow:loss = 108640940000.0, step = 18501 (0.150 sec)\n",
      "INFO:tensorflow:global_step/sec: 665.574\n",
      "INFO:tensorflow:loss = 296457960000.0, step = 18601 (0.151 sec)\n",
      "INFO:tensorflow:global_step/sec: 670.021\n",
      "INFO:tensorflow:loss = 71174430000.0, step = 18701 (0.149 sec)\n",
      "INFO:tensorflow:global_step/sec: 659.536\n",
      "INFO:tensorflow:loss = 42500186000.0, step = 18801 (0.153 sec)\n",
      "INFO:tensorflow:global_step/sec: 688.093\n",
      "INFO:tensorflow:loss = 112247180000.0, step = 18901 (0.144 sec)\n",
      "INFO:tensorflow:global_step/sec: 672.202\n",
      "INFO:tensorflow:loss = 75749065000.0, step = 19001 (0.150 sec)\n",
      "INFO:tensorflow:global_step/sec: 683.167\n",
      "INFO:tensorflow:loss = 159923520000.0, step = 19101 (0.144 sec)\n",
      "INFO:tensorflow:global_step/sec: 655.871\n",
      "INFO:tensorflow:loss = 29035358000.0, step = 19201 (0.154 sec)\n",
      "INFO:tensorflow:global_step/sec: 657.579\n",
      "INFO:tensorflow:loss = 151241150000.0, step = 19301 (0.151 sec)\n",
      "INFO:tensorflow:global_step/sec: 675.611\n",
      "INFO:tensorflow:loss = 46901223000.0, step = 19401 (0.148 sec)\n",
      "INFO:tensorflow:global_step/sec: 638.39\n",
      "INFO:tensorflow:loss = 54931993000.0, step = 19501 (0.155 sec)\n",
      "INFO:tensorflow:global_step/sec: 633.084\n",
      "INFO:tensorflow:loss = 178853150000.0, step = 19601 (0.158 sec)\n",
      "INFO:tensorflow:global_step/sec: 641.445\n",
      "INFO:tensorflow:loss = 51596810000.0, step = 19701 (0.156 sec)\n",
      "INFO:tensorflow:global_step/sec: 658.922\n",
      "INFO:tensorflow:loss = 180230980000.0, step = 19801 (0.151 sec)\n",
      "INFO:tensorflow:global_step/sec: 672.794\n",
      "INFO:tensorflow:loss = 103304310000.0, step = 19901 (0.150 sec)\n",
      "INFO:tensorflow:global_step/sec: 612.036\n",
      "INFO:tensorflow:loss = 83147590000.0, step = 20001 (0.162 sec)\n",
      "INFO:tensorflow:global_step/sec: 685.171\n",
      "INFO:tensorflow:loss = 163130980000.0, step = 20101 (0.146 sec)\n",
      "INFO:tensorflow:global_step/sec: 689.484\n",
      "INFO:tensorflow:loss = 34971320000.0, step = 20201 (0.148 sec)\n",
      "INFO:tensorflow:global_step/sec: 661.678\n",
      "INFO:tensorflow:loss = 96783400000.0, step = 20301 (0.150 sec)\n",
      "INFO:tensorflow:global_step/sec: 684.35\n",
      "INFO:tensorflow:loss = 91643085000.0, step = 20401 (0.146 sec)\n",
      "INFO:tensorflow:global_step/sec: 657.588\n",
      "INFO:tensorflow:loss = 78689410000.0, step = 20501 (0.153 sec)\n",
      "INFO:tensorflow:global_step/sec: 665.34\n",
      "INFO:tensorflow:loss = 87611330000.0, step = 20601 (0.150 sec)\n",
      "INFO:tensorflow:global_step/sec: 657.346\n",
      "INFO:tensorflow:loss = 106268030000.0, step = 20701 (0.152 sec)\n",
      "INFO:tensorflow:global_step/sec: 648.669\n",
      "INFO:tensorflow:loss = 77095930000.0, step = 20801 (0.155 sec)\n",
      "INFO:tensorflow:global_step/sec: 671.51\n",
      "INFO:tensorflow:loss = 84683750000.0, step = 20901 (0.148 sec)\n",
      "INFO:tensorflow:global_step/sec: 678.1\n",
      "INFO:tensorflow:loss = 58524545000.0, step = 21001 (0.149 sec)\n",
      "INFO:tensorflow:global_step/sec: 627.227\n",
      "INFO:tensorflow:loss = 79918280000.0, step = 21101 (0.159 sec)\n",
      "INFO:tensorflow:global_step/sec: 661.621\n",
      "INFO:tensorflow:loss = 71677930000.0, step = 21201 (0.152 sec)\n",
      "INFO:tensorflow:global_step/sec: 617.913\n",
      "INFO:tensorflow:loss = 95798200000.0, step = 21301 (0.160 sec)\n",
      "INFO:tensorflow:global_step/sec: 653.513\n",
      "INFO:tensorflow:loss = 82717460000.0, step = 21401 (0.153 sec)\n",
      "INFO:tensorflow:global_step/sec: 693.461\n",
      "INFO:tensorflow:loss = 36560904000.0, step = 21501 (0.145 sec)\n",
      "INFO:tensorflow:global_step/sec: 659.34\n",
      "INFO:tensorflow:loss = 67668505000.0, step = 21601 (0.153 sec)\n",
      "INFO:tensorflow:global_step/sec: 665.548\n",
      "INFO:tensorflow:loss = 126343590000.0, step = 21701 (0.149 sec)\n",
      "INFO:tensorflow:global_step/sec: 666.37\n",
      "INFO:tensorflow:loss = 70481040000.0, step = 21801 (0.149 sec)\n",
      "INFO:tensorflow:global_step/sec: 671.421\n",
      "INFO:tensorflow:loss = 59724630000.0, step = 21901 (0.150 sec)\n",
      "INFO:tensorflow:global_step/sec: 626.3\n",
      "INFO:tensorflow:loss = 163544990000.0, step = 22001 (0.157 sec)\n",
      "INFO:tensorflow:global_step/sec: 637.544\n",
      "INFO:tensorflow:loss = 116512200000.0, step = 22101 (0.157 sec)\n",
      "INFO:tensorflow:global_step/sec: 661.673\n",
      "INFO:tensorflow:loss = 109257990000.0, step = 22201 (0.151 sec)\n",
      "INFO:tensorflow:global_step/sec: 627.132\n",
      "INFO:tensorflow:loss = 62261840000.0, step = 22301 (0.161 sec)\n",
      "INFO:tensorflow:global_step/sec: 619.007\n",
      "INFO:tensorflow:loss = 167144400000.0, step = 22401 (0.160 sec)\n",
      "INFO:tensorflow:global_step/sec: 668.008\n",
      "INFO:tensorflow:loss = 87302180000.0, step = 22501 (0.150 sec)\n",
      "INFO:tensorflow:global_step/sec: 686.2\n",
      "INFO:tensorflow:loss = 162506900000.0, step = 22601 (0.148 sec)\n",
      "INFO:tensorflow:global_step/sec: 663.147\n",
      "INFO:tensorflow:loss = 133569240000.0, step = 22701 (0.151 sec)\n",
      "INFO:tensorflow:global_step/sec: 658.48\n",
      "INFO:tensorflow:loss = 189153360000.0, step = 22801 (0.150 sec)\n",
      "INFO:tensorflow:global_step/sec: 647.971\n",
      "INFO:tensorflow:loss = 118047650000.0, step = 22901 (0.154 sec)\n",
      "INFO:tensorflow:global_step/sec: 664.805\n",
      "INFO:tensorflow:loss = 54551163000.0, step = 23001 (0.150 sec)\n",
      "INFO:tensorflow:global_step/sec: 687.469\n",
      "INFO:tensorflow:loss = 179768770000.0, step = 23101 (0.147 sec)\n",
      "INFO:tensorflow:global_step/sec: 672.373\n",
      "INFO:tensorflow:loss = 87583510000.0, step = 23201 (0.147 sec)\n",
      "INFO:tensorflow:global_step/sec: 615.623\n",
      "INFO:tensorflow:loss = 86982620000.0, step = 23301 (0.162 sec)\n"
     ]
    },
    {
     "name": "stdout",
     "output_type": "stream",
     "text": [
      "INFO:tensorflow:global_step/sec: 663.122\n",
      "INFO:tensorflow:loss = 65583985000.0, step = 23401 (0.152 sec)\n",
      "INFO:tensorflow:global_step/sec: 683.024\n",
      "INFO:tensorflow:loss = 62049812000.0, step = 23501 (0.145 sec)\n",
      "INFO:tensorflow:global_step/sec: 645.648\n",
      "INFO:tensorflow:loss = 55719186000.0, step = 23601 (0.156 sec)\n",
      "INFO:tensorflow:global_step/sec: 663.746\n",
      "INFO:tensorflow:loss = 58174900000.0, step = 23701 (0.149 sec)\n",
      "INFO:tensorflow:global_step/sec: 657.804\n",
      "INFO:tensorflow:loss = 87397550000.0, step = 23801 (0.152 sec)\n",
      "INFO:tensorflow:global_step/sec: 659.939\n",
      "INFO:tensorflow:loss = 150064630000.0, step = 23901 (0.154 sec)\n",
      "INFO:tensorflow:global_step/sec: 673.831\n",
      "INFO:tensorflow:loss = 44266103000.0, step = 24001 (0.149 sec)\n",
      "INFO:tensorflow:global_step/sec: 680.95\n",
      "INFO:tensorflow:loss = 73232970000.0, step = 24101 (0.146 sec)\n",
      "INFO:tensorflow:global_step/sec: 646.173\n",
      "INFO:tensorflow:loss = 94256530000.0, step = 24201 (0.153 sec)\n",
      "INFO:tensorflow:global_step/sec: 661.849\n",
      "INFO:tensorflow:loss = 187191230000.0, step = 24301 (0.151 sec)\n",
      "INFO:tensorflow:global_step/sec: 625.677\n",
      "INFO:tensorflow:loss = 48959310000.0, step = 24401 (0.160 sec)\n",
      "INFO:tensorflow:global_step/sec: 701.08\n",
      "INFO:tensorflow:loss = 88635050000.0, step = 24501 (0.144 sec)\n",
      "INFO:tensorflow:global_step/sec: 684.143\n",
      "INFO:tensorflow:loss = 34431013000.0, step = 24601 (0.147 sec)\n",
      "INFO:tensorflow:global_step/sec: 702.11\n",
      "INFO:tensorflow:loss = 133099190000.0, step = 24701 (0.144 sec)\n",
      "INFO:tensorflow:global_step/sec: 638.737\n",
      "INFO:tensorflow:loss = 64026943000.0, step = 24801 (0.154 sec)\n",
      "INFO:tensorflow:global_step/sec: 651.411\n",
      "INFO:tensorflow:loss = 76026905000.0, step = 24901 (0.154 sec)\n",
      "INFO:tensorflow:Saving checkpoints for 25000 into /var/folders/c3/88hk3vsx7vvbx2k7w_c2wwtshd1228/T/tmpvlp5vxhf/model.ckpt.\n",
      "INFO:tensorflow:Loss for final step: 64347525000.0.\n"
     ]
    },
    {
     "data": {
      "text/plain": [
       "<tensorflow.python.estimator.canned.dnn.DNNRegressor at 0x10c08be80>"
      ]
     },
     "execution_count": 41,
     "metadata": {},
     "output_type": "execute_result"
    }
   ],
   "source": [
    "model.train(input_fn=input_func,steps=25000)"
   ]
  },
  {
   "cell_type": "markdown",
   "metadata": {},
   "source": [
    "** Create a prediction input function and then use the .predict method off your estimator model to create a list or predictions on your test data. **"
   ]
  },
  {
   "cell_type": "code",
   "execution_count": 44,
   "metadata": {},
   "outputs": [],
   "source": [
    "predict_input_func = tf.estimator.inputs.pandas_input_fn(x=x_test,batch_size=10,num_epochs=1,shuffle=False)"
   ]
  },
  {
   "cell_type": "code",
   "execution_count": 50,
   "metadata": {},
   "outputs": [],
   "source": [
    "predictions = model.predict(predict_input_func)"
   ]
  },
  {
   "cell_type": "code",
   "execution_count": 51,
   "metadata": {},
   "outputs": [
    {
     "name": "stdout",
     "output_type": "stream",
     "text": [
      "INFO:tensorflow:Calling model_fn.\n",
      "INFO:tensorflow:Done calling model_fn.\n",
      "INFO:tensorflow:Graph was finalized.\n",
      "INFO:tensorflow:Restoring parameters from /var/folders/c3/88hk3vsx7vvbx2k7w_c2wwtshd1228/T/tmpvlp5vxhf/model.ckpt-25000\n",
      "INFO:tensorflow:Running local_init_op.\n",
      "INFO:tensorflow:Done running local_init_op.\n"
     ]
    }
   ],
   "source": [
    "predictions = list(predictions)"
   ]
  },
  {
   "cell_type": "markdown",
   "metadata": {},
   "source": [
    "** Calculate the RMSE. You should be able to get around 100,000 RMSE (remember that this is in the same units as the label.) Do this manually or use [sklearn.metrics](http://scikit-learn.org/stable/modules/generated/sklearn.metrics.mean_squared_error.html) **"
   ]
  },
  {
   "cell_type": "code",
   "execution_count": 53,
   "metadata": {},
   "outputs": [],
   "source": [
    "final_preds = []\n",
    "for pred in predictions:\n",
    "    final_preds.append(pred['predictions'])"
   ]
  },
  {
   "cell_type": "code",
   "execution_count": 54,
   "metadata": {},
   "outputs": [],
   "source": [
    "from sklearn.metrics import mean_squared_error"
   ]
  },
  {
   "cell_type": "code",
   "execution_count": 57,
   "metadata": {},
   "outputs": [
    {
     "data": {
      "text/plain": [
       "98915.73640819294"
      ]
     },
     "execution_count": 57,
     "metadata": {},
     "output_type": "execute_result"
    }
   ],
   "source": [
    "mean_squared_error(Y_test, final_preds)**0.5"
   ]
  },
  {
   "cell_type": "markdown",
   "metadata": {},
   "source": [
    "# Great Job!"
   ]
  }
 ],
 "metadata": {
  "kernelspec": {
   "display_name": "Python 3",
   "language": "python",
   "name": "python3"
  },
  "language_info": {
   "codemirror_mode": {
    "name": "ipython",
    "version": 3
   },
   "file_extension": ".py",
   "mimetype": "text/x-python",
   "name": "python",
   "nbconvert_exporter": "python",
   "pygments_lexer": "ipython3",
   "version": "3.6.6"
  }
 },
 "nbformat": 4,
 "nbformat_minor": 2
}
